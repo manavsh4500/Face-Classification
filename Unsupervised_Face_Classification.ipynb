{
  "nbformat": 4,
  "nbformat_minor": 0,
  "metadata": {
    "colab": {
      "provenance": []
    },
    "kernelspec": {
      "name": "python3",
      "display_name": "Python 3"
    },
    "language_info": {
      "name": "python"
    }
  },
  "cells": [
    {
      "cell_type": "code",
      "source": [
        "from google.colab import drive\n",
        "drive.mount('/content/drive')\n",
        "!pip install ipython-autotime\n",
        "%load_ext autotime"
      ],
      "metadata": {
        "id": "EtXfN7GWYa1x",
        "colab": {
          "base_uri": "https://localhost:8080/"
        },
        "outputId": "f6f919c2-60d5-4976-a58c-582c9da79f59"
      },
      "execution_count": null,
      "outputs": [
        {
          "output_type": "stream",
          "name": "stdout",
          "text": [
            "Drive already mounted at /content/drive; to attempt to forcibly remount, call drive.mount(\"/content/drive\", force_remount=True).\n",
            "Looking in indexes: https://pypi.org/simple, https://us-python.pkg.dev/colab-wheels/public/simple/\n",
            "Collecting ipython-autotime\n",
            "  Downloading ipython_autotime-0.3.1-py2.py3-none-any.whl (6.8 kB)\n",
            "Requirement already satisfied: ipython in /usr/local/lib/python3.8/dist-packages (from ipython-autotime) (7.9.0)\n",
            "Requirement already satisfied: pexpect in /usr/local/lib/python3.8/dist-packages (from ipython->ipython-autotime) (4.8.0)\n",
            "Requirement already satisfied: pickleshare in /usr/local/lib/python3.8/dist-packages (from ipython->ipython-autotime) (0.7.5)\n",
            "Requirement already satisfied: traitlets>=4.2 in /usr/local/lib/python3.8/dist-packages (from ipython->ipython-autotime) (5.7.1)\n",
            "Requirement already satisfied: setuptools>=18.5 in /usr/local/lib/python3.8/dist-packages (from ipython->ipython-autotime) (57.4.0)\n",
            "Requirement already satisfied: backcall in /usr/local/lib/python3.8/dist-packages (from ipython->ipython-autotime) (0.2.0)\n",
            "Requirement already satisfied: prompt-toolkit<2.1.0,>=2.0.0 in /usr/local/lib/python3.8/dist-packages (from ipython->ipython-autotime) (2.0.10)\n",
            "Requirement already satisfied: pygments in /usr/local/lib/python3.8/dist-packages (from ipython->ipython-autotime) (2.6.1)\n",
            "Requirement already satisfied: decorator in /usr/local/lib/python3.8/dist-packages (from ipython->ipython-autotime) (4.4.2)\n",
            "Collecting jedi>=0.10\n",
            "  Downloading jedi-0.18.2-py2.py3-none-any.whl (1.6 MB)\n",
            "\u001b[2K     \u001b[90m━━━━━━━━━━━━━━━━━━━━━━━━━━━━━━━━━━━━━━━━\u001b[0m \u001b[32m1.6/1.6 MB\u001b[0m \u001b[31m26.4 MB/s\u001b[0m eta \u001b[36m0:00:00\u001b[0m\n",
            "\u001b[?25hRequirement already satisfied: parso<0.9.0,>=0.8.0 in /usr/local/lib/python3.8/dist-packages (from jedi>=0.10->ipython->ipython-autotime) (0.8.3)\n",
            "Requirement already satisfied: wcwidth in /usr/local/lib/python3.8/dist-packages (from prompt-toolkit<2.1.0,>=2.0.0->ipython->ipython-autotime) (0.2.5)\n",
            "Requirement already satisfied: six>=1.9.0 in /usr/local/lib/python3.8/dist-packages (from prompt-toolkit<2.1.0,>=2.0.0->ipython->ipython-autotime) (1.15.0)\n",
            "Requirement already satisfied: ptyprocess>=0.5 in /usr/local/lib/python3.8/dist-packages (from pexpect->ipython->ipython-autotime) (0.7.0)\n",
            "Installing collected packages: jedi, ipython-autotime\n",
            "Successfully installed ipython-autotime-0.3.1 jedi-0.18.2\n",
            "time: 490 µs (started: 2023-01-06 21:25:47 +00:00)\n"
          ]
        }
      ]
    },
    {
      "cell_type": "code",
      "source": [
        "!unzip /content/drive/MyDrive/Project/Face_Classification/face_images.zip -d /content/drive/MyDrive/Project/Face_Classification/Face_images\n"
      ],
      "metadata": {
        "id": "CtMKd8SXbNZG"
      },
      "execution_count": null,
      "outputs": []
    },
    {
      "cell_type": "code",
      "source": [
        "import cv2 \n",
        "import glob\n",
        "import matplotlib.pyplot as plt\n",
        "import pandas as pd\n",
        "import numpy as np"
      ],
      "metadata": {
        "id": "Ru9E7Vh7qwkF"
      },
      "execution_count": null,
      "outputs": []
    },
    {
      "cell_type": "code",
      "source": [
        "df = pd.read_excel('/content/drive/MyDrive/Project/Face_Classification/(English translate)20210426_image_classification_Imbesideyou.xlsx')\n",
        "#renaming the column names\n",
        "df.rename(columns=df.iloc[0],inplace = True)\n",
        "#th row drop\n",
        "df.drop(df.index[0],inplace=True)\n",
        "print(df.columns)\n",
        "#dropping the first two columns\n",
        "df.drop(df.iloc[:, :2], axis=1,inplace=True)\n",
        "images = [] \n",
        "f_img = list(df['Mask: Y/N\\n\"-\" is not for face images'])\n",
        "person_id = list(df['Person ID'])\n",
        "pid=[]\n",
        "#print(f_img[0])\n",
        "c=0\n",
        "#giving the file path to read the files\n",
        "for file in glob.glob('/content/drive/MyDrive/Project/Face_Classification/Face_images/face_images/a055a66f-46ea-4c57-8de4-f3cc4f27c59c/*.jpg'):\n",
        "  if(f_img[c]=='N'):\n",
        "    ig = cv2.imread(file)\n",
        "    res = cv2.resize(ig, dsize=(32, 32), interpolation=cv2.INTER_CUBIC)\n",
        "    images.append(res)\n",
        "    pid.append(person_id[c])  #loading images from the givin file\n",
        "  c=c+1\n",
        "for file in glob.glob('/content/drive/MyDrive/Project/Face_Classification/Face_images/face_images/dd40a338-faf9-481d-996c-6fe0f648d0b7/*.jpg'):\n",
        "  if(f_img[c]=='N'):\n",
        "    ig = cv2.imread(file)\n",
        "    res = cv2.resize(ig, dsize=(32, 32), interpolation=cv2.INTER_CUBIC)\n",
        "    images.append(res)\n",
        "    pid.append(person_id[c]) \n",
        "  c=c+1\n",
        "for file in glob.glob('/content/drive/MyDrive/Project/Face_Classification/Face_images/face_images/f5845e49-256f-4d70-9214-47bd5358c9d1/*.jpg'):\n",
        "  if(f_img[c]=='N'):\n",
        "    ig = cv2.imread(file)\n",
        "    res = cv2.resize(ig, dsize=(32, 32), interpolation=cv2.INTER_CUBIC)\n",
        "    images.append(res)\n",
        "    pid.append(person_id[c]) \n",
        "  c=c+1\n",
        "#df.head()\n",
        "\n",
        "print(len(images))\n",
        "print(images[0].shape)\n",
        "print(len(pid))\n",
        "print(c)\n",
        "# plt.imshow(images[0],cmap=\"gray\")"
      ],
      "metadata": {
        "id": "RupE8Y0Gse5s",
        "colab": {
          "base_uri": "https://localhost:8080/"
        },
        "outputId": "ef340074-0a26-457e-c796-a4ea590608ec"
      },
      "execution_count": null,
      "outputs": [
        {
          "output_type": "stream",
          "name": "stdout",
          "text": [
            "Index([nan, 'NO', 'File name', 'Person ID',\n",
            "       'Mask: Y/N\\n\"-\" is not for face images'],\n",
            "      dtype='object')\n",
            "30082\n",
            "(32, 32, 3)\n",
            "30082\n",
            "57898\n"
          ]
        }
      ]
    },
    {
      "cell_type": "code",
      "source": [
        "import collections\n",
        "# pid = np.array(pid)\n",
        "# np.unique(pid)\n",
        "collections.Counter(pid)"
      ],
      "metadata": {
        "id": "3kNg5qXf3zWN",
        "colab": {
          "base_uri": "https://localhost:8080/"
        },
        "outputId": "689650fe-623c-4538-d313-517361e564c8"
      },
      "execution_count": null,
      "outputs": [
        {
          "output_type": "execute_result",
          "data": {
            "text/plain": [
              "Counter({1.0: 8924, 4.0: 7460, 3.0: 5971, 2.0: 7727})"
            ]
          },
          "metadata": {},
          "execution_count": 5
        }
      ]
    },
    {
      "cell_type": "code",
      "source": [
        "from sklearn.model_selection import train_test_split\n",
        "imgs = np.array(images)\n",
        "x = imgs.astype('float32') / 255.0 - 0.5\n",
        "# X_train, X_test, y_train, y_test = train_test_split(images, ids, test_size=0.3, random_state=42)"
      ],
      "metadata": {
        "id": "6ARbKkID_hKk"
      },
      "execution_count": null,
      "outputs": []
    },
    {
      "cell_type": "code",
      "source": [
        "import tensorflow\n",
        "from tensorflow import keras\n",
        "from tensorflow.keras.models import save_model\n",
        "import tensorflow.keras.layers\n",
        "import numpy as np\n",
        "import matplotlib.pyplot as plt\n",
        "\n",
        "from keras.layers import Input, Conv2D, MaxPooling2D, UpSampling2D, Dense\n",
        "from keras.models import Model\n",
        "\n",
        "\n",
        "    # encoder\n",
        "encoder = tensorflow.keras.models.Sequential()\n",
        "encoder.add(tensorflow.keras.layers.InputLayer((32, 32, 3)))\n",
        "    \n",
        "encoder.add(tensorflow.keras.layers.Conv2D(filters=32, kernel_size=(3, 3), activation='relu', padding='same'))\n",
        "encoder.add(tensorflow.keras.layers.MaxPooling2D(pool_size=(2, 2)))\n",
        "encoder.add(tensorflow.keras.layers.Conv2D(filters=64, kernel_size=(3, 3), activation='relu', padding='same'))\n",
        "encoder.add(tensorflow.keras.layers.MaxPooling2D(pool_size=(2, 2)))\n",
        "encoder.add(tensorflow.keras.layers.Conv2D(filters=128, kernel_size=(3, 3), activation='relu', padding='same'))\n",
        "encoder.add(tensorflow.keras.layers.MaxPooling2D(pool_size=(2, 2)))\n",
        "encoder.add(tensorflow.keras.layers.Conv2D(filters=256, kernel_size=(3, 3), activation='relu', padding='same'))\n",
        "encoder.add(tensorflow.keras.layers.MaxPooling2D(pool_size=(2, 2)))\n",
        "encoder.add(tensorflow.keras.layers.Flatten())\n",
        "encoder.add(tensorflow.keras.layers.Dense(128))\n",
        "\n",
        "    # decoder\n",
        "decoder = tensorflow.keras.models.Sequential()\n",
        "decoder.add(tensorflow.keras.layers.InputLayer((128,)))\n",
        "    \n",
        "    ### YOUR CODE HERE: define decoder as per instructions above ###\n",
        "decoder.add(tensorflow.keras.layers.Dense(2*2*256))\n",
        "decoder.add(tensorflow.keras.layers.Reshape((2, 2, 256)))\n",
        "decoder.add(tensorflow.keras.layers.Conv2DTranspose(filters=128, kernel_size=(3, 3), strides=2, activation='relu', padding='same'))\n",
        "decoder.add(tensorflow.keras.layers.Conv2DTranspose(filters=64, kernel_size=(3, 3), strides=2, activation='relu', padding='same'))\n",
        "decoder.add(tensorflow.keras.layers.Conv2DTranspose(filters=32, kernel_size=(3, 3), strides=2, activation='relu', padding='same'))\n",
        "decoder.add(tensorflow.keras.layers.Conv2DTranspose(filters=3, kernel_size=(3, 3), strides=2, activation=None, padding='same'))\n",
        "\n",
        "\n",
        "\n"
      ],
      "metadata": {
        "id": "Ry7-B9yXMuHQ"
      },
      "execution_count": null,
      "outputs": []
    },
    {
      "cell_type": "code",
      "source": [
        "inp = tensorflow.keras.layers.Input((32,32,3))\n",
        "code = encoder(inp)\n",
        "reconstruction = decoder(code)\n",
        "\n",
        "autoencoder = tensorflow.keras.models.Model(inp,reconstruction)\n",
        "autoencoder.compile('adamax','mse')\n",
        "plt.imshow(imgs[5])"
      ],
      "metadata": {
        "colab": {
          "base_uri": "https://localhost:8080/",
          "height": 283
        },
        "id": "TzwYW41zNA56",
        "outputId": "d4ec28f2-89cb-41db-feed-a4d2e7150e8a"
      },
      "execution_count": null,
      "outputs": [
        {
          "output_type": "execute_result",
          "data": {
            "text/plain": [
              "<matplotlib.image.AxesImage at 0x7efff42ebbd0>"
            ]
          },
          "metadata": {},
          "execution_count": 8
        },
        {
          "output_type": "display_data",
          "data": {
            "text/plain": [
              "<Figure size 432x288 with 1 Axes>"
            ],
            "image/png": "[encoded data removed]"
          },
          "metadata": {
            "needs_background": "light"
          }
        }
      ]
    },
    {
      "cell_type": "code",
      "source": [
        "autoencoder.fit(x=imgs,y=imgs,epochs=15, validation_split=0.3, batch_size=70, verbose=1)"
      ],
      "metadata": {
        "colab": {
          "base_uri": "https://localhost:8080/"
        },
        "id": "kzmKcuX_Qegd",
        "outputId": "7c30bbcd-718d-4469-eafa-d83b90ad16cc"
      },
      "execution_count": null,
      "outputs": [
        {
          "output_type": "stream",
          "name": "stdout",
          "text": [
            "Epoch 1/15\n",
            "301/301 [==============================] - 86s 281ms/step - loss: 2587.0002 - val_loss: 1443.7454\n",
            "Epoch 2/15\n",
            "301/301 [==============================] - 85s 282ms/step - loss: 1067.6146 - val_loss: 1076.6849\n",
            "Epoch 3/15\n",
            "301/301 [==============================] - 84s 279ms/step - loss: 807.5678 - val_loss: 911.9669\n",
            "Epoch 4/15\n",
            "301/301 [==============================] - 88s 292ms/step - loss: 687.9883 - val_loss: 796.1129\n",
            "Epoch 5/15\n",
            "301/301 [==============================] - 85s 281ms/step - loss: 619.1125 - val_loss: 732.4547\n",
            "Epoch 6/15\n",
            "301/301 [==============================] - 85s 282ms/step - loss: 566.8257 - val_loss: 701.3790\n",
            "Epoch 7/15\n",
            "301/301 [==============================] - 85s 282ms/step - loss: 536.6190 - val_loss: 654.6635\n",
            "Epoch 8/15\n",
            "301/301 [==============================] - 84s 280ms/step - loss: 506.5219 - val_loss: 625.6414\n",
            "Epoch 9/15\n",
            "301/301 [==============================] - 84s 278ms/step - loss: 484.8022 - val_loss: 597.5538\n",
            "Epoch 10/15\n",
            "301/301 [==============================] - 84s 279ms/step - loss: 456.8487 - val_loss: 578.3728\n",
            "Epoch 11/15\n",
            "301/301 [==============================] - 88s 292ms/step - loss: 441.7135 - val_loss: 557.5455\n",
            "Epoch 12/15\n",
            "301/301 [==============================] - 85s 283ms/step - loss: 425.4960 - val_loss: 542.8338\n",
            "Epoch 13/15\n",
            "301/301 [==============================] - 89s 297ms/step - loss: 412.9218 - val_loss: 524.1076\n",
            "Epoch 14/15\n",
            "301/301 [==============================] - 86s 285ms/step - loss: 398.2659 - val_loss: 508.0206\n",
            "Epoch 15/15\n",
            "301/301 [==============================] - 85s 284ms/step - loss: 386.8775 - val_loss: 495.3129\n"
          ]
        },
        {
          "output_type": "execute_result",
          "data": {
            "text/plain": [
              "<keras.callbacks.History at 0x7efff42d4cd0>"
            ]
          },
          "metadata": {},
          "execution_count": 9
        }
      ]
    },
    {
      "cell_type": "code",
      "source": [
        "y = autoencoder.predict(imgs[2].reshape(-1,32,32,3))\n",
        "# plt.imshow(y[0])\n",
        "bottle_neck=[]\n",
        "for i in range(len(imgs)):\n",
        "  inp = encoder(imgs[i].reshape(-1,32,32,3))\n",
        "  bottle_neck.append(inp[0])\n",
        "print(len(bottle_neck))\n",
        "# plt.imshow(X[0].reshape(-1,32,32,3))\n",
        "print(np.array(bottle_neck))"
      ],
      "metadata": {
        "colab": {
          "base_uri": "https://localhost:8080/"
        },
        "id": "JINqvzZLNS5v",
        "outputId": "041a59ca-09de-4f57-a4b2-98baea929b2f"
      },
      "execution_count": null,
      "outputs": [
        {
          "output_type": "stream",
          "name": "stdout",
          "text": [
            "1/1 [==============================] - 0s 148ms/step\n",
            "30082\n",
            "[[-229.28946   199.0799      8.26963  ... -335.09348    84.2735\n",
            "     8.904257]\n",
            " [-279.6001     99.45916  -193.0558   ...  -79.30201   244.63995\n",
            "    56.268776]\n",
            " [-209.89159    34.440144 -273.529    ... -109.87807   -20.743443\n",
            "   -39.56185 ]\n",
            " ...\n",
            " [ 535.3886    682.105      34.338326 ...   73.36366    51.362183\n",
            "   198.61774 ]\n",
            " [  27.780231  119.5717    -89.66055  ... -103.63884    48.72152\n",
            "   137.72275 ]\n",
            " [-186.72784   131.93314  -302.78754  ... -289.20102   -15.888614\n",
            "    61.178284]]\n"
          ]
        }
      ]
    },
    {
      "cell_type": "code",
      "source": [
        "# Checkpoints:\n",
        "from keras.callbacks import ModelCheckpoint, TensorBoard\n",
        "checkpoints = []\n",
        "# epochs = 1\n",
        "# batch_size = 2000\n",
        "print(np.array(images).shape)\n",
        "imgs = np.array(images)\n",
        "# y_train = np.array(y_train)\n",
        "# X_test  = np.array(X_test)\n",
        "# y_test  = np.array(y_test)\n",
        "\n",
        "\n",
        "# from keras.preprocessing.image import ImageDataGenerator\n",
        "# generated_data = ImageDataGenerator(featurewise_center=False, samplewise_center=False, featurewise_std_normalization=False, samplewise_std_normalization=False, zca_whitening=False, rotation_range=0,  width_shift_range=0.1, height_shift_range=0.1, horizontal_flip = True, vertical_flip = False)\n",
        "# generated_data.fit(X_train)\n",
        "# print(np.array(y_train).shape)\n",
        "# autoencoder.fit_generator(generated_data.flow(X_train, X_train, batch_size=batch_size), steps_per_epoch=X_train.shape[0],epochs=epochs, validation_data=(X_test, X_test), callbacks=checkpoints)\n",
        "# Training Model:\n",
        "# autoencoder.fit(X_train, X_train, batch_size=batch_size, epochs=epochs, validation_data=(X_test, X_test), shuffle=True, callbacks=checkpoints)\n",
        "autoencoder.compile(optimizer='rmsprop', loss='mse')\n",
        "history = autoencoder.fit(\n",
        "      imgs,\n",
        "      imgs,\n",
        "      epochs=20, \n",
        "      batch_size=100, validation_split=0.10\n",
        "        )  "
      ],
      "metadata": {
        "colab": {
          "base_uri": "https://localhost:8080/"
        },
        "id": "m9tj3cu2Eo-D",
        "outputId": "69ffe3cb-02f2-47bc-8060-929fc6121c49"
      },
      "execution_count": null,
      "outputs": [
        {
          "output_type": "stream",
          "name": "stdout",
          "text": [
            "(30082, 32, 32, 3)\n",
            "Epoch 1/20\n",
            "271/271 [==============================] - 102s 370ms/step - loss: 4811.3086 - val_loss: 1855.0262\n",
            "Epoch 2/20\n",
            "271/271 [==============================] - 95s 350ms/step - loss: 1784.9490 - val_loss: 2605.5378\n",
            "Epoch 3/20\n",
            "271/271 [==============================] - 92s 340ms/step - loss: 1378.5955 - val_loss: 946.9558\n",
            "Epoch 4/20\n",
            "271/271 [==============================] - 93s 343ms/step - loss: 1176.2596 - val_loss: 996.9766\n",
            "Epoch 5/20\n",
            "271/271 [==============================] - 93s 341ms/step - loss: 1044.7181 - val_loss: 963.6762\n",
            "Epoch 6/20\n",
            "271/271 [==============================] - 93s 342ms/step - loss: 951.3413 - val_loss: 1338.8054\n",
            "Epoch 7/20\n",
            "271/271 [==============================] - 92s 341ms/step - loss: 890.2167 - val_loss: 876.9851\n",
            "Epoch 8/20\n",
            "271/271 [==============================] - 92s 340ms/step - loss: 840.0347 - val_loss: 720.9719\n",
            "Epoch 9/20\n",
            "271/271 [==============================] - 92s 338ms/step - loss: 793.5652 - val_loss: 1199.3467\n",
            "Epoch 10/20\n",
            "271/271 [==============================] - 91s 336ms/step - loss: 763.3109 - val_loss: 1350.0077\n",
            "Epoch 11/20\n",
            "271/271 [==============================] - 92s 339ms/step - loss: 733.6337 - val_loss: 754.6826\n",
            "Epoch 12/20\n",
            "271/271 [==============================] - 92s 338ms/step - loss: 708.6763 - val_loss: 1170.6252\n",
            "Epoch 13/20\n",
            "271/271 [==============================] - 92s 338ms/step - loss: 686.3035 - val_loss: 784.0370\n",
            "Epoch 14/20\n",
            "271/271 [==============================] - 92s 338ms/step - loss: 666.7533 - val_loss: 623.4160\n",
            "Epoch 15/20\n",
            "271/271 [==============================] - 91s 338ms/step - loss: 652.7297 - val_loss: 770.6533\n",
            "Epoch 16/20\n",
            "271/271 [==============================] - 91s 335ms/step - loss: 638.1852 - val_loss: 538.0394\n",
            "Epoch 17/20\n",
            "271/271 [==============================] - 90s 332ms/step - loss: 629.3766 - val_loss: 619.7981\n",
            "Epoch 18/20\n",
            "271/271 [==============================] - 89s 330ms/step - loss: 611.5278 - val_loss: 661.2653\n",
            "Epoch 19/20\n",
            "271/271 [==============================] - 90s 331ms/step - loss: 600.6158 - val_loss: 683.0893\n",
            "Epoch 20/20\n",
            "271/271 [==============================] - 89s 330ms/step - loss: 589.3994 - val_loss: 671.3165\n"
          ]
        }
      ]
    },
    {
      "cell_type": "code",
      "source": [
        "y = autoencoder.predict(images[0].reshape(-1, 32, 32, 3))\n",
        "plt.imshow(cv2.cvtColor((y[0] * 255).astype(np.uint8), cv2.COLOR_BGR2RGB))\n",
        "# plt.imshow((y[0] * 255).astype(np.uint8))\n",
        "# print(y.shape)\n"
      ],
      "metadata": {
        "id": "uxZpGdsIZcGs"
      },
      "execution_count": null,
      "outputs": []
    }
  ]
}